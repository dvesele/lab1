{
  "metadata": {
    "kernelspec": {
      "name": "python",
      "display_name": "Python (Pyodide)",
      "language": "python"
    },
    "language_info": {
      "codemirror_mode": {
        "name": "python",
        "version": 3
      },
      "file_extension": ".py",
      "mimetype": "text/x-python",
      "name": "python",
      "nbconvert_exporter": "python",
      "pygments_lexer": "ipython3",
      "version": "3.8"
    },
    "colab": {
      "provenance": []
    }
  },
  "nbformat_minor": 4,
  "nbformat": 4,
  "cells": [
    {
      "cell_type": "markdown",
      "source": "#Задача 1\nНаписать функцию на вход которой подается строка, состоящая из латинских букв.\nФункция должна вернуть количество гласных букв (a, e, i, o, u) в этой строке. Написать тесты для кода",
      "metadata": {
        "id": "M-DGa20PaHnu"
      }
    },
    {
      "cell_type": "code",
      "source": "def count_vowels(text):\n    vowels = {'a', 'e', 'i', 'o', 'u'}\n    return sum(1 for char in text.lower() if char in vowels)\n\n#Тесты \ndef test_count_vowels():\n    # Тест 1: Обычная строка\n    assert count_vowels(\"Hello World\") == 3\n    \n    #Тест 2: Строка без гласных\n    assert count_vowels(\"xyz\") == 0\n    \n    #Тест 3: Все гласные\n    assert count_vowels(\"aeiou\") == 5\n    \n    #Тест 4: Пустая строка\n    assert count_vowels(\"\") == 0\n    \n    #Тест 5: Строка с заглавными гласными\n    assert count_vowels(\"AEIOU\") == 5\n    \n    #Тест 6: Строка с повторяющимися гласными\n    assert count_vowels(\"banana\") == 3\n    \n    #Тест 7: Строка с пробелами и знаками препинания\n    assert count_vowels(\"Hello, how are you?\") == 7\n    \n    print(\"Все тесты пройдены успешно!\")\n\ntest_count_vowels()",
      "metadata": {
        "id": "XvX8X_JJ6PCb",
        "trusted": true
      },
      "outputs": [
        {
          "name": "stdout",
          "output_type": "stream",
          "text": "Все тесты пройдены успешно!\n"
        }
      ],
      "execution_count": 3
    },
    {
      "cell_type": "markdown",
      "source": "# Задача 2\nНаписать функцию на вход, которой подается строка. Функция должна вернуть true, если\nкаждый символ в строке встречается только 1 раз, иначе должна вернуть false. Написать тесты для кода",
      "metadata": {
        "id": "t2ClV_Y0bbr6"
      }
    },
    {
      "cell_type": "code",
      "source": "def all_unique_chars(s):\n    return len(s) == len(set(s))\n\n#Тесты \ndef test_all_unique_chars():\n    #Тест 1: Все символы уникальны\n    assert all_unique_chars(\"abcdef\") == True\n    \n    #Тест 2: Есть повторяющиеся символы\n    assert all_unique_chars(\"hello\") == False\n    \n    #Тест 3: Пустая строка\n    assert all_unique_chars(\"\") == True\n    \n    #Тест 4: Один символ\n    assert all_unique_chars(\"a\") == True\n    \n    #Тест 5: Два одинаковых символа\n    assert all_unique_chars(\"aa\") == False\n    \n    #Тест 6: Уникальные символы с разным регистром\n    assert all_unique_chars(\"AbCd\") == True\n    \n    #Тест 7: Повторяющиеся символы с разным регистром\n    assert all_unique_chars(\"Abca\") == True  # 'a' и 'A' считаются разными\n    \n    #Тест 8: Строка с пробелами\n    assert all_unique_chars(\"abc def\") == True\n    assert all_unique_chars(\"abc abc\") == False\n    \n    #Тест 9: Специальные символы\n    assert all_unique_chars(\"!@#$\") == True\n    assert all_unique_chars(\"!!\") == False\n    \n    print(\"Все тесты пройдены успешно!\")\n\ntest_all_unique_chars()",
      "metadata": {
        "id": "FppbECao6VIz",
        "trusted": true
      },
      "outputs": [
        {
          "name": "stdout",
          "output_type": "stream",
          "text": "Все тесты пройдены успешно!\n"
        }
      ],
      "execution_count": 4
    },
    {
      "cell_type": "markdown",
      "source": "# Задача 3\nНаписать функцию, которая принимает положительное число и возвращает количество\nбит равных 1 в этом числе. Написать тесты для кода",
      "metadata": {
        "id": "udRiIK1cdt6E"
      }
    },
    {
      "cell_type": "code",
      "source": "def count_set_bits(n):\n    if n < 0:\n        raise ValueError(\"Число должно быть положительным\")\n    return bin(n).count('1')\n\n# Тесты для функции count_set_bits\ndef test_count_set_bits():\n    #Тест 1: Число 0\n    assert count_set_bits(0) == 0\n    \n    #Тест 2: Число 1\n    assert count_set_bits(1) == 1\n    \n    #Тест 3: Число 5 (101)\n    assert count_set_bits(5) == 2\n    \n    #Тест 4: Число 255 (11111111)\n    assert count_set_bits(255) == 8\n    \n    #Тест 5: Число 1024 (степень двойки)\n    assert count_set_bits(1024) == 1\n    \n    #Тест 6: Число с несколькими битами\n    assert count_set_bits(12345) == 6\n    \n    #Тест 7: Проверка на отрицательное число\n    try:\n        count_set_bits(-10)\n        assert False, \"Функция должна вызывать исключение для отрицательных чисел\"\n    except ValueError:\n        pass\n    \n    print(\"Все тесты пройдены!\")\n\ntest_count_set_bits()",
      "metadata": {
        "id": "6tkfDJRz6dp_",
        "trusted": true
      },
      "outputs": [
        {
          "name": "stdout",
          "output_type": "stream",
          "text": "Все тесты пройдены!\n"
        }
      ],
      "execution_count": 13
    },
    {
      "cell_type": "markdown",
      "source": "# Задача 4\nНаписать функцию, которая принимает положительное число. Функция должна вернуть то,\nсколько раз необходимо перемножать цифры числа или результат перемножения, чтобы\nполучилось число состоящее из одной цифры.\nНапример, для входного числа:\n· 39 функция должна вернуть 3, так как 3*9=27 => 2*7=14 => 1*4=4\n· 4 функция должна вернуть 0, так как число уже состоит из одной цифры\n· 999 функция должна вернуть 4, так как 9*9*9=729 => 7*2*9=126 => 1*2*6=12 =>\n1*2=2. Написать тесты для кода",
      "metadata": {
        "id": "26dDUz-Ae17N"
      }
    },
    {
      "cell_type": "code",
      "source": "def magic(n):\n    if n < 0:\n        raise ValueError(\"Число должно быть положительным\")\n    \n    steps = 0\n    \n    while n >= 10:\n        product = 1\n        # Перемножаем все цифры числа\n        for digit in str(n):\n            product *= int(digit)\n        n = product\n        steps += 1\n    \n    return steps\n\ndef test():\n    assert magic(39) == 3\n    assert magic(4) == 0\n    assert magic(999) == 4\n    assert magic(10) == 1\n    assert magic(25) == 2\n    try:\n        magic(-5)\n        assert False, \"Функция должна вызывать исключение для отрицательных чисел\"\n    except ValueError:\n        pass\n    print(\"Все тесты пройдены!\")\n\ntest()",
      "metadata": {
        "id": "BH1A_Mgi6i4G",
        "trusted": true
      },
      "outputs": [
        {
          "name": "stdout",
          "output_type": "stream",
          "text": "Все тесты пройдены!\n"
        }
      ],
      "execution_count": 12
    },
    {
      "cell_type": "markdown",
      "source": "# Задача 5\nНаписать функцию, которая принимает два целочисленных вектора одинаковой длины и\nвозвращает среднеквадратическое отклонение двух векторов. Написать тесты для кода",
      "metadata": {
        "id": "0nS-kIa8g8vd"
      }
    },
    {
      "cell_type": "code",
      "source": "def mse(predicted, actual):\n    if len(predicted) != len(actual):\n        raise ValueError(\"Длина векторов должна совпадать\")\n    \n    squared_errors = [(p - a) ** 2 for p, a in zip(predicted, actual)]\n    return sum(squared_errors) / len(squared_errors)\n\ndef test_mse():\n    # Тест 1: Идентичные векторы\n    assert mse([1, 2, 3], [1, 2, 3]) == 0.0\n    \n    # Тест 2: Разница в 1 для всех элементов\n    assert mse([1, 2, 3], [2, 3, 4]) == 1.0  # (1+1+1)/3 = 1.0\n    \n    print(\"Все тесты успешно пройдены!\")\n\n# Запуск тестов\ntest_mse()",
      "metadata": {
        "id": "8iphx4LM6xbx",
        "trusted": true
      },
      "outputs": [
        {
          "ename": "<class 'AssertionError'>",
          "evalue": "",
          "traceback": [
            "\u001b[0;31m---------------------------------------------------------------------------\u001b[0m",
            "\u001b[0;31mAssertionError\u001b[0m                            Traceback (most recent call last)",
            "Cell \u001b[0;32mIn[27], line 24\u001b[0m\n\u001b[1;32m     21\u001b[0m     \u001b[38;5;28mprint\u001b[39m(\u001b[38;5;124m\"\u001b[39m\u001b[38;5;124mВсе тесты успешно пройдены!\u001b[39m\u001b[38;5;124m\"\u001b[39m)\n\u001b[1;32m     23\u001b[0m \u001b[38;5;66;03m# Запуск тестов\u001b[39;00m\n\u001b[0;32m---> 24\u001b[0m \u001b[43mtest_mse\u001b[49m\u001b[43m(\u001b[49m\u001b[43m)\u001b[49m\n",
            "Cell \u001b[0;32mIn[27], line 19\u001b[0m, in \u001b[0;36mtest_mse\u001b[0;34m()\u001b[0m\n\u001b[1;32m     16\u001b[0m \u001b[38;5;28;01massert\u001b[39;00m \u001b[38;5;28mabs\u001b[39m(mse([\u001b[38;5;241m10\u001b[39m, \u001b[38;5;241m20\u001b[39m, \u001b[38;5;241m30\u001b[39m], [\u001b[38;5;241m5\u001b[39m, \u001b[38;5;241m10\u001b[39m, \u001b[38;5;241m15\u001b[39m]) \u001b[38;5;241m-\u001b[39m \u001b[38;5;241m116.666666\u001b[39m) \u001b[38;5;241m<\u001b[39m \u001b[38;5;241m0.0001\u001b[39m\n\u001b[1;32m     18\u001b[0m \u001b[38;5;66;03m# Тест 4: Дробные числа\u001b[39;00m\n\u001b[0;32m---> 19\u001b[0m \u001b[38;5;28;01massert\u001b[39;00m \u001b[38;5;28mabs\u001b[39m(mse([\u001b[38;5;241m1.5\u001b[39m, \u001b[38;5;241m2.5\u001b[39m], [\u001b[38;5;241m1.0\u001b[39m, \u001b[38;5;241m2.0\u001b[39m]) \u001b[38;5;241m-\u001b[39m \u001b[38;5;241m0.125\u001b[39m) \u001b[38;5;241m<\u001b[39m \u001b[38;5;241m0.0001\u001b[39m\n\u001b[1;32m     21\u001b[0m \u001b[38;5;28mprint\u001b[39m(\u001b[38;5;124m\"\u001b[39m\u001b[38;5;124mВсе тесты успешно пройдены!\u001b[39m\u001b[38;5;124m\"\u001b[39m)\n",
            "\u001b[0;31mAssertionError\u001b[0m: "
          ],
          "output_type": "error"
        }
      ],
      "execution_count": 29
    },
    {
      "cell_type": "markdown",
      "source": "# Задача 6\nНаписать функцию, принимающая целое положительное число. Функция должна вернуть\nстроку вида “(n1**p1)(n2**p2)…(nk**pk)” представляющая разложение числа на простые\nмножители (если pi == 1, то выводить только ni).\nНапример, для числа 86240 функция должна вернуть “(2**5)(5)(7**2)(11)”. Написать тесты для кода",
      "metadata": {
        "id": "vpIPKL439zkw"
      }
    },
    {
      "cell_type": "code",
      "source": "def factorize(n):\n    if not isinstance(n, int) or n <= 0:\n        raise ValueError(\"Должно быть положительное число\")\n    \n    if n == 1:\n        return \"(1)\"\n    \n    factors = {}\n    divisor = 2\n    \n    while n > 1:\n        while n % divisor == 0:\n            factors[divisor] = factors.get(divisor, 0) + 1\n            n = n // divisor\n        divisor += 1\n    \n    result = []\n    for prime in sorted(factors):\n        power = factors[prime]\n        if power == 1:\n            result.append(f\"({prime})\")\n        else:\n            result.append(f\"({prime}**{power})\")\n    return \"\".join(result)\n\n# Тесты\ndef test_factorize():\n    assert factorize(13) == \"(13)\"\n    assert factorize(86240) == \"(2**5)(5)(7**2)(11)\"\n    assert factorize(2) == \"(2)\"\n    # Тест на обработку ошибок\n    try:\n        factorize(-5)\n        assert False, \"Ошибка ожидаемого значения для отрицательных чисел\"\n    except ValueError:\n        pass\n    \n    print(\"Все тесты пройдены!\")\n\ntest_factorize()",
      "metadata": {
        "id": "pFebmcZk94Jw",
        "trusted": true
      },
      "outputs": [
        {
          "name": "stdout",
          "output_type": "stream",
          "text": "Все тесты пройдены!\n"
        }
      ],
      "execution_count": 23
    },
    {
      "cell_type": "markdown",
      "source": "# Задача 7\nНаписать функцию, принимающая целое число n, задающее количество кубиков. Функция\nдолжна определить, можно ли из данного кол-ва кубиков построить пирамиду, то есть\nможно ли представить число n как 1^2+2^2+3^2+…+k^2. Если можно, то функция должна\nвернуть k, иначе строку “It is impossible”. Написать тесты для кода",
      "metadata": {
        "id": "ps2s0BudX7A2"
      }
    },
    {
      "cell_type": "code",
      "source": "def pyramid(number):\n    if number < 1:\n        return \"Невозможно\"\n    \n    total = 0\n    k = 0\n    \n    while total < number:\n        k += 1\n        total += k ** 2\n        \n        if total == number:\n            return k\n    \n    return \"Невозможно\"\n\n# Тесты для функции pyramid\ndef test_pyramid():\n    assert pyramid(1) == 1\n    \n    assert pyramid(5) == 2\n    \n    assert pyramid(7) == \"Невозможно\"\n    \n    assert pyramid(55) == 5\n\n    assert pyramid(0) == \"Невозможно\"\n\n    assert pyramid(-10) == \"Невозможно\"\n\n    assert pyramid(14) == 3\n    \n    print(\"Все тесты пройдены!\")\n\n# Запуск тестов\ntest_pyramid()",
      "metadata": {
        "id": "3YPjEXxhX_YT",
        "trusted": true
      },
      "outputs": [
        {
          "name": "stdout",
          "output_type": "stream",
          "text": "Все тесты пройдены!\n"
        }
      ],
      "execution_count": 33
    },
    {
      "cell_type": "markdown",
      "source": "# Задача 8\nФункция принимает на вход положительное число и определяет является ли оно сбалансированным, т.е. сумма цифр до средних равна сумме цифр после. Средними в случае нечетного числа цифр считать одну цифру, в случае четного - две средних. Написать тесты для кода",
      "metadata": {
        "id": "KeKgmIdAQMEJ"
      }
    },
    {
      "cell_type": "code",
      "source": "def is_balanced(number):\n    num_str = str(number)\n    length = len(num_str)\n    \n    if length == 1:\n        return True  # Однозначное число считается сбалансированным\n    \n    if length % 2 == 1:\n        # Нечетное количество цифр - одна средняя цифра\n        middle = length // 2\n        left_part = num_str[:middle]\n        right_part = num_str[middle+1:]\n    else:\n        # Четное количество цифр - две средние цифры\n        middle = length // 2\n        left_part = num_str[:middle-1]\n        right_part = num_str[middle+1:]\n    \n    sum_left = sum(int(digit) for digit in left_part)\n    sum_right = sum(int(digit) for digit in right_part)\n    \n    return sum_left == sum_right\n\n# Тесты\ndef test_is_balanced():\n    # Однозначные числа\n    assert is_balanced(5) == True\n    assert is_balanced(0) == True\n    \n    # Четное количество цифр\n    assert is_balanced(1230) == True  # 1+2 = 3+0 (но средние - 2 и 3)\n    assert is_balanced(1234) == False\n    assert is_balanced(1221) == True  # 1 = 1 (средние 2 и 2)\n    \n    # Нечетное количество цифр\n    assert is_balanced(12321) == True  # 1+2 = 2+1 (средняя 3)\n    assert is_balanced(12345) == False\n    assert is_balanced(12021) == True  # 1+2 = 2+1 (средняя 0)\n    \n    # Граничные случаи\n    assert is_balanced(11) == True\n    assert is_balanced(121) == True\n    assert is_balanced(123321) == True\n    assert is_balanced(123456) == False\n    \n    print(\"Все тесты пройдены!\")\n\ntest_is_balanced()",
      "metadata": {
        "id": "gMAAqtqlQrZt",
        "trusted": true
      },
      "outputs": [
        {
          "ename": "<class 'AssertionError'>",
          "evalue": "",
          "traceback": [
            "\u001b[0;31m---------------------------------------------------------------------------\u001b[0m",
            "\u001b[0;31mAssertionError\u001b[0m                            Traceback (most recent call last)",
            "Cell \u001b[0;32mIn[28], line 48\u001b[0m\n\u001b[1;32m     44\u001b[0m     \u001b[38;5;28;01massert\u001b[39;00m is_balanced(\u001b[38;5;241m123456\u001b[39m) \u001b[38;5;241m==\u001b[39m \u001b[38;5;28;01mFalse\u001b[39;00m\n\u001b[1;32m     46\u001b[0m     \u001b[38;5;28mprint\u001b[39m(\u001b[38;5;124m\"\u001b[39m\u001b[38;5;124mВсе тесты пройдены!\u001b[39m\u001b[38;5;124m\"\u001b[39m)\n\u001b[0;32m---> 48\u001b[0m \u001b[43mtest_is_balanced\u001b[49m\u001b[43m(\u001b[49m\u001b[43m)\u001b[49m\n",
            "Cell \u001b[0;32mIn[28], line 31\u001b[0m, in \u001b[0;36mtest_is_balanced\u001b[0;34m()\u001b[0m\n\u001b[1;32m     28\u001b[0m \u001b[38;5;28;01massert\u001b[39;00m is_balanced(\u001b[38;5;241m0\u001b[39m) \u001b[38;5;241m==\u001b[39m \u001b[38;5;28;01mTrue\u001b[39;00m\n\u001b[1;32m     30\u001b[0m \u001b[38;5;66;03m# Четное количество цифр\u001b[39;00m\n\u001b[0;32m---> 31\u001b[0m \u001b[38;5;28;01massert\u001b[39;00m is_balanced(\u001b[38;5;241m1230\u001b[39m) \u001b[38;5;241m==\u001b[39m \u001b[38;5;28;01mTrue\u001b[39;00m  \u001b[38;5;66;03m# 1+2 = 3+0 (но средние - 2 и 3)\u001b[39;00m\n\u001b[1;32m     32\u001b[0m \u001b[38;5;28;01massert\u001b[39;00m is_balanced(\u001b[38;5;241m1234\u001b[39m) \u001b[38;5;241m==\u001b[39m \u001b[38;5;28;01mFalse\u001b[39;00m\n\u001b[1;32m     33\u001b[0m \u001b[38;5;28;01massert\u001b[39;00m is_balanced(\u001b[38;5;241m1221\u001b[39m) \u001b[38;5;241m==\u001b[39m \u001b[38;5;28;01mTrue\u001b[39;00m  \u001b[38;5;66;03m# 1 = 1 (средние 2 и 2)\u001b[39;00m\n",
            "\u001b[0;31mAssertionError\u001b[0m: "
          ],
          "output_type": "error"
        }
      ],
      "execution_count": 30
    },
    {
      "cell_type": "code",
      "source": "",
      "metadata": {
        "trusted": true
      },
      "outputs": [],
      "execution_count": null
    }
  ]
}